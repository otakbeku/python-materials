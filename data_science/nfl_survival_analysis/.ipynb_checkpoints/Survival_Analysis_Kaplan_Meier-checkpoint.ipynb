{
 "cells": [
  {
   "cell_type": "markdown",
   "metadata": {},
   "source": [
    "# What is Survival Analysis?\n",
    "\n",
    "[Survival analysis](https://en.wikipedia.org/wiki/Survival_analysis) is used to study the **time** until some **event** of interest (often referred to as **death**) occurs.  Time could be measured in years, months, weeks, days, etc.  The event could be anything of interest.  It could be an actual death, a birth, a Pokemon Go server crash, etc. In this post we are interested in how long drafted NFL players are in the league, so the event of interest will be the retirement of drafted NFL players. The duration of time leading up to the event of interest can be called the **survival time**. In our case, the survival time is the number of years that a player was active in the league (according to [Pro Football Reference](http://www.pro-football-reference.com/)).  \n",
    "\n",
    "Some of the players in this analysis are still active players (e.g. Aaron Rodgers, Eli Manning, etc.), so we haven't observed their retirement (the event of interest).  Those players are considered **censored**. While we have some information about their career length (or survival time), we don't know the full length of their career.  This specific type of censorship, one in which we do not observe end of the survival time, is called **right-censorship**.  The methods developed in the field of survival analysis were created in order to deal with the issue of censored data.  In this post we will use one such method, called the [Kaplan-Meier estimator](https://en.wikipedia.org/wiki/Kaplan%E2%80%93Meier_estimator), to estimate the survival function and construct the survival curve for an NFL career.\n",
    "\n",
    "\n",
    "## A brief comment on the data used\n",
    "\n",
    "I used the draft data scraped from my [previous post](http://savvastjortjoglou.com/nfl-draft.html). The duration of a player's career is just the difference between \"To\" value from the [PFR draft table](http://www.pro-football-reference.com/years/2015/draft.htm) and the year the player was drafted.  Players were considered active, if there name was in bold.  However there are may be some players who are retired that PFR still considers active (e.g. Mike Kafka). You can check out how I prepared the data in [this Jupyter notebook](https://github.com/savvastj/nfl_survival_analysis/blob/master/Data_Prep.ipynb). Let me know if you see any issues/mistakes I've made.\n",
    "\n",
    "# What is the Survival Function?\n",
    "\n",
    "The [survival function](https://en.wikipedia.org/wiki/Survival_function), $S(t)$, of a population is defined as follows:\n",
    "\n",
    "$$S(t) = Pr(T > t)$$\n",
    "\n",
    "Capital $T$ is a [random variable](https://www.khanacademy.org/math/probability/random-variables-topic/random-variables-prob-dist/v/random-variables) that represents a subject's survival time. In our case $T$ represents an NFL player's career length. Lower case $t$ represents a specific time of interest for $T$. In our analysis the $t$ represents a specific number of years played. In other words the survival function just gives us the probability that someone survives longer than (or at least as long as) a specified value of time, $t$.  So in the context of our analysis, $S(3)$ will provide us the probability that an NFL career lasts longer than 3 years.\n",
    "\n",
    "# What is the Kaplan-Meier estimator?\n",
    "\n",
    "To estimate the survival function of NFL players we will use the Kaplan-Meier estimator.  The Kaplan-Meier estimator is defined by the following product (from the [`lifelines` documentation](https://lifelines.readthedocs.io/en/latest/Intro%20to%20lifelines.html#estimating-the-survival-function-using-kaplan-meier)):\n",
    "\n",
    "$$\\hat{S}(t) = \\prod_{t_i \\lt t} \\frac{n_i - d_i}{n_i}$$\n",
    "\n",
    "where $d_i$ are the number of death events at time $t$ and $n_i$ is the number of subjects at risk of death just prior to time $t$. \n",
    "\n",
    "We will walk through a simple example in a bit in order to get a better understanding of the above definition.\n",
    "\n",
    "# Estimating the Survival Function of NFL Players\n",
    "\n",
    "To estimate the survival function of NFL players we will be using the [`lifelines` library](https://lifelines.readthedocs.io/en/latest/index.html).  It provides a user friendly interface for survival analyis using Python. Lets get started by importing what we need and reading in the data."
   ]
  },
  {
   "cell_type": "code",
   "execution_count": 1,
   "metadata": {},
   "outputs": [],
   "source": [
    "%matplotlib inline\n",
    "\n",
    "import pandas as pd\n",
    "import numpy as np\n",
    "import matplotlib.pyplot as plt\n",
    "import seaborn as sns\n",
    "from lifelines import KaplanMeierFitter\n",
    "\n",
    "draft_df = pd.read_csv(\"data/nfl_survival_analysis_data.csv\")\n",
    "\n",
    "# set some plotting aesthetics, similar to ggplot\n",
    "sns.set(palette = \"colorblind\", font_scale = 1.35, \n",
    "        rc = {\"figure.figsize\": (12,9), \"axes.facecolor\": \".92\"})"
   ]
  },
  {
   "cell_type": "code",
   "execution_count": 2,
   "metadata": {},
   "outputs": [
    {
     "data": {
      "text/html": [
       "<div>\n",
       "<table border=\"1\" class=\"dataframe\">\n",
       "  <thead>\n",
       "    <tr style=\"text-align: right;\">\n",
       "      <th></th>\n",
       "      <th>Draft_Yr</th>\n",
       "      <th>Rnd</th>\n",
       "      <th>Pick</th>\n",
       "      <th>Tm</th>\n",
       "      <th>Player</th>\n",
       "      <th>Pos</th>\n",
       "      <th>Age</th>\n",
       "      <th>To</th>\n",
       "      <th>AP1</th>\n",
       "      <th>PB</th>\n",
       "      <th>...</th>\n",
       "      <th>Rec</th>\n",
       "      <th>Rec_Yds</th>\n",
       "      <th>Rec_TD</th>\n",
       "      <th>Tkl</th>\n",
       "      <th>Def_Int</th>\n",
       "      <th>Sk</th>\n",
       "      <th>College</th>\n",
       "      <th>Player_ID</th>\n",
       "      <th>Retired</th>\n",
       "      <th>Duration</th>\n",
       "    </tr>\n",
       "  </thead>\n",
       "  <tbody>\n",
       "    <tr>\n",
       "      <th>0</th>\n",
       "      <td>1967</td>\n",
       "      <td>1</td>\n",
       "      <td>1</td>\n",
       "      <td>BAL</td>\n",
       "      <td>Bubba Smith</td>\n",
       "      <td>DE</td>\n",
       "      <td>22</td>\n",
       "      <td>1976</td>\n",
       "      <td>1</td>\n",
       "      <td>2</td>\n",
       "      <td>...</td>\n",
       "      <td>0</td>\n",
       "      <td>0</td>\n",
       "      <td>0</td>\n",
       "      <td>0.0</td>\n",
       "      <td>0</td>\n",
       "      <td>0.0</td>\n",
       "      <td>Michigan St.</td>\n",
       "      <td>SmitBu00</td>\n",
       "      <td>1</td>\n",
       "      <td>10</td>\n",
       "    </tr>\n",
       "    <tr>\n",
       "      <th>1</th>\n",
       "      <td>1967</td>\n",
       "      <td>1</td>\n",
       "      <td>2</td>\n",
       "      <td>MIN</td>\n",
       "      <td>Clint Jones</td>\n",
       "      <td>RB</td>\n",
       "      <td>22</td>\n",
       "      <td>1973</td>\n",
       "      <td>0</td>\n",
       "      <td>0</td>\n",
       "      <td>...</td>\n",
       "      <td>38</td>\n",
       "      <td>431</td>\n",
       "      <td>0</td>\n",
       "      <td>0.0</td>\n",
       "      <td>0</td>\n",
       "      <td>0.0</td>\n",
       "      <td>Michigan St.</td>\n",
       "      <td>JoneCl00</td>\n",
       "      <td>1</td>\n",
       "      <td>7</td>\n",
       "    </tr>\n",
       "    <tr>\n",
       "      <th>2</th>\n",
       "      <td>1967</td>\n",
       "      <td>1</td>\n",
       "      <td>3</td>\n",
       "      <td>SFO</td>\n",
       "      <td>Steve Spurrier</td>\n",
       "      <td>QB</td>\n",
       "      <td>22</td>\n",
       "      <td>1976</td>\n",
       "      <td>0</td>\n",
       "      <td>0</td>\n",
       "      <td>...</td>\n",
       "      <td>0</td>\n",
       "      <td>0</td>\n",
       "      <td>0</td>\n",
       "      <td>0.0</td>\n",
       "      <td>0</td>\n",
       "      <td>0.0</td>\n",
       "      <td>Florida</td>\n",
       "      <td>SpurSt00</td>\n",
       "      <td>1</td>\n",
       "      <td>10</td>\n",
       "    </tr>\n",
       "    <tr>\n",
       "      <th>3</th>\n",
       "      <td>1967</td>\n",
       "      <td>1</td>\n",
       "      <td>4</td>\n",
       "      <td>MIA</td>\n",
       "      <td>Bob Griese</td>\n",
       "      <td>QB</td>\n",
       "      <td>22</td>\n",
       "      <td>1980</td>\n",
       "      <td>2</td>\n",
       "      <td>8</td>\n",
       "      <td>...</td>\n",
       "      <td>0</td>\n",
       "      <td>0</td>\n",
       "      <td>0</td>\n",
       "      <td>0.0</td>\n",
       "      <td>0</td>\n",
       "      <td>0.0</td>\n",
       "      <td>Purdue</td>\n",
       "      <td>GrieBo00</td>\n",
       "      <td>1</td>\n",
       "      <td>14</td>\n",
       "    </tr>\n",
       "    <tr>\n",
       "      <th>4</th>\n",
       "      <td>1967</td>\n",
       "      <td>1</td>\n",
       "      <td>5</td>\n",
       "      <td>HOU</td>\n",
       "      <td>George Webster</td>\n",
       "      <td>LB</td>\n",
       "      <td>21</td>\n",
       "      <td>1976</td>\n",
       "      <td>3</td>\n",
       "      <td>3</td>\n",
       "      <td>...</td>\n",
       "      <td>0</td>\n",
       "      <td>0</td>\n",
       "      <td>0</td>\n",
       "      <td>0.0</td>\n",
       "      <td>5</td>\n",
       "      <td>0.0</td>\n",
       "      <td>Michigan St.</td>\n",
       "      <td>WebsGe00</td>\n",
       "      <td>1</td>\n",
       "      <td>10</td>\n",
       "    </tr>\n",
       "  </tbody>\n",
       "</table>\n",
       "<p>5 rows × 32 columns</p>\n",
       "</div>"
      ],
      "text/plain": [
       "   Draft_Yr  Rnd  Pick   Tm          Player Pos  Age    To  AP1  PB    ...     \\\n",
       "0      1967    1     1  BAL     Bubba Smith  DE   22  1976    1   2    ...      \n",
       "1      1967    1     2  MIN     Clint Jones  RB   22  1973    0   0    ...      \n",
       "2      1967    1     3  SFO  Steve Spurrier  QB   22  1976    0   0    ...      \n",
       "3      1967    1     4  MIA      Bob Griese  QB   22  1980    2   8    ...      \n",
       "4      1967    1     5  HOU  George Webster  LB   21  1976    3   3    ...      \n",
       "\n",
       "   Rec  Rec_Yds  Rec_TD  Tkl  Def_Int   Sk       College  Player_ID  Retired  \\\n",
       "0    0        0       0  0.0        0  0.0  Michigan St.   SmitBu00        1   \n",
       "1   38      431       0  0.0        0  0.0  Michigan St.   JoneCl00        1   \n",
       "2    0        0       0  0.0        0  0.0       Florida   SpurSt00        1   \n",
       "3    0        0       0  0.0        0  0.0        Purdue   GrieBo00        1   \n",
       "4    0        0       0  0.0        5  0.0  Michigan St.   WebsGe00        1   \n",
       "\n",
       "   Duration  \n",
       "0        10  \n",
       "1         7  \n",
       "2        10  \n",
       "3        14  \n",
       "4        10  \n",
       "\n",
       "[5 rows x 32 columns]"
      ]
     },
     "execution_count": 2,
     "metadata": {},
     "output_type": "execute_result"
    }
   ],
   "source": [
    "draft_df.head()"
   ]
  },
  {
   "cell_type": "markdown",
   "metadata": {},
   "source": [
    "The columns of interest for our analysis are the *Duration* and *Retired* columns.  The *Duration* column represents the number of years a player played in the NFL.  The *Retired* column represents whether the player retired from the NFL or not.  1 indicates that he is retired, while 0 indicates that he is still an active player.\n",
    "\n",
    "To calculate the Kaplan-Meier estimate we will need to create a `KaplanMeierFitter` object."
   ]
  },
  {
   "cell_type": "code",
   "execution_count": 3,
   "metadata": {
    "collapsed": true
   },
   "outputs": [],
   "source": [
    "kmf = KaplanMeierFitter() "
   ]
  },
  {
   "cell_type": "markdown",
   "metadata": {},
   "source": [
    "We can then fit the data by calling the `KaplanMeierFitter`s `fit` method."
   ]
  },
  {
   "cell_type": "code",
   "execution_count": 4,
   "metadata": {},
   "outputs": [
    {
     "data": {
      "text/plain": [
       "<lifelines.KaplanMeierFitter: fitted with 15592 observations, 1629 censored>"
      ]
     },
     "execution_count": 4,
     "metadata": {},
     "output_type": "execute_result"
    }
   ],
   "source": [
    "# The 1st arg accepts an array or pd.Series of individual survival times\n",
    "# The 2nd arg accepts an array or pd.Series that indicates if the event \n",
    "# interest (or death) occured.\n",
    "kmf.fit(durations = draft_df.Duration, \n",
    "        event_observed = draft_df.Retired)"
   ]
  },
  {
   "cell_type": "markdown",
   "metadata": {},
   "source": [
    "After fitting our data we can access the event table that contains a bunch of information regarding the subjects (the NFL players) at each time period."
   ]
  },
  {
   "cell_type": "code",
   "execution_count": 5,
   "metadata": {
    "scrolled": false
   },
   "outputs": [
    {
     "data": {
      "text/html": [
       "<div>\n",
       "<table border=\"1\" class=\"dataframe\">\n",
       "  <thead>\n",
       "    <tr style=\"text-align: right;\">\n",
       "      <th></th>\n",
       "      <th>removed</th>\n",
       "      <th>observed</th>\n",
       "      <th>censored</th>\n",
       "      <th>entrance</th>\n",
       "      <th>at_risk</th>\n",
       "    </tr>\n",
       "    <tr>\n",
       "      <th>event_at</th>\n",
       "      <th></th>\n",
       "      <th></th>\n",
       "      <th></th>\n",
       "      <th></th>\n",
       "      <th></th>\n",
       "    </tr>\n",
       "  </thead>\n",
       "  <tbody>\n",
       "    <tr>\n",
       "      <th>0</th>\n",
       "      <td>4597.0</td>\n",
       "      <td>4504.0</td>\n",
       "      <td>93.0</td>\n",
       "      <td>15592.0</td>\n",
       "      <td>15592.0</td>\n",
       "    </tr>\n",
       "    <tr>\n",
       "      <th>1</th>\n",
       "      <td>1310.0</td>\n",
       "      <td>1076.0</td>\n",
       "      <td>234.0</td>\n",
       "      <td>0.0</td>\n",
       "      <td>10995.0</td>\n",
       "    </tr>\n",
       "    <tr>\n",
       "      <th>2</th>\n",
       "      <td>1415.0</td>\n",
       "      <td>1176.0</td>\n",
       "      <td>239.0</td>\n",
       "      <td>0.0</td>\n",
       "      <td>9685.0</td>\n",
       "    </tr>\n",
       "    <tr>\n",
       "      <th>3</th>\n",
       "      <td>1183.0</td>\n",
       "      <td>952.0</td>\n",
       "      <td>231.0</td>\n",
       "      <td>0.0</td>\n",
       "      <td>8270.0</td>\n",
       "    </tr>\n",
       "    <tr>\n",
       "      <th>4</th>\n",
       "      <td>1126.0</td>\n",
       "      <td>942.0</td>\n",
       "      <td>184.0</td>\n",
       "      <td>0.0</td>\n",
       "      <td>7087.0</td>\n",
       "    </tr>\n",
       "    <tr>\n",
       "      <th>5</th>\n",
       "      <td>967.0</td>\n",
       "      <td>822.0</td>\n",
       "      <td>145.0</td>\n",
       "      <td>0.0</td>\n",
       "      <td>5961.0</td>\n",
       "    </tr>\n",
       "    <tr>\n",
       "      <th>6</th>\n",
       "      <td>915.0</td>\n",
       "      <td>782.0</td>\n",
       "      <td>133.0</td>\n",
       "      <td>0.0</td>\n",
       "      <td>4994.0</td>\n",
       "    </tr>\n",
       "    <tr>\n",
       "      <th>7</th>\n",
       "      <td>823.0</td>\n",
       "      <td>715.0</td>\n",
       "      <td>108.0</td>\n",
       "      <td>0.0</td>\n",
       "      <td>4079.0</td>\n",
       "    </tr>\n",
       "    <tr>\n",
       "      <th>8</th>\n",
       "      <td>743.0</td>\n",
       "      <td>667.0</td>\n",
       "      <td>76.0</td>\n",
       "      <td>0.0</td>\n",
       "      <td>3256.0</td>\n",
       "    </tr>\n",
       "    <tr>\n",
       "      <th>9</th>\n",
       "      <td>662.0</td>\n",
       "      <td>609.0</td>\n",
       "      <td>53.0</td>\n",
       "      <td>0.0</td>\n",
       "      <td>2513.0</td>\n",
       "    </tr>\n",
       "    <tr>\n",
       "      <th>10</th>\n",
       "      <td>580.0</td>\n",
       "      <td>523.0</td>\n",
       "      <td>57.0</td>\n",
       "      <td>0.0</td>\n",
       "      <td>1851.0</td>\n",
       "    </tr>\n",
       "    <tr>\n",
       "      <th>11</th>\n",
       "      <td>406.0</td>\n",
       "      <td>375.0</td>\n",
       "      <td>31.0</td>\n",
       "      <td>0.0</td>\n",
       "      <td>1271.0</td>\n",
       "    </tr>\n",
       "    <tr>\n",
       "      <th>12</th>\n",
       "      <td>313.0</td>\n",
       "      <td>291.0</td>\n",
       "      <td>22.0</td>\n",
       "      <td>0.0</td>\n",
       "      <td>865.0</td>\n",
       "    </tr>\n",
       "    <tr>\n",
       "      <th>13</th>\n",
       "      <td>198.0</td>\n",
       "      <td>184.0</td>\n",
       "      <td>14.0</td>\n",
       "      <td>0.0</td>\n",
       "      <td>552.0</td>\n",
       "    </tr>\n",
       "    <tr>\n",
       "      <th>14</th>\n",
       "      <td>149.0</td>\n",
       "      <td>146.0</td>\n",
       "      <td>3.0</td>\n",
       "      <td>0.0</td>\n",
       "      <td>354.0</td>\n",
       "    </tr>\n",
       "    <tr>\n",
       "      <th>15</th>\n",
       "      <td>88.0</td>\n",
       "      <td>85.0</td>\n",
       "      <td>3.0</td>\n",
       "      <td>0.0</td>\n",
       "      <td>205.0</td>\n",
       "    </tr>\n",
       "    <tr>\n",
       "      <th>16</th>\n",
       "      <td>52.0</td>\n",
       "      <td>49.0</td>\n",
       "      <td>3.0</td>\n",
       "      <td>0.0</td>\n",
       "      <td>117.0</td>\n",
       "    </tr>\n",
       "    <tr>\n",
       "      <th>17</th>\n",
       "      <td>33.0</td>\n",
       "      <td>33.0</td>\n",
       "      <td>0.0</td>\n",
       "      <td>0.0</td>\n",
       "      <td>65.0</td>\n",
       "    </tr>\n",
       "    <tr>\n",
       "      <th>18</th>\n",
       "      <td>11.0</td>\n",
       "      <td>11.0</td>\n",
       "      <td>0.0</td>\n",
       "      <td>0.0</td>\n",
       "      <td>32.0</td>\n",
       "    </tr>\n",
       "    <tr>\n",
       "      <th>19</th>\n",
       "      <td>5.0</td>\n",
       "      <td>5.0</td>\n",
       "      <td>0.0</td>\n",
       "      <td>0.0</td>\n",
       "      <td>21.0</td>\n",
       "    </tr>\n",
       "    <tr>\n",
       "      <th>20</th>\n",
       "      <td>8.0</td>\n",
       "      <td>8.0</td>\n",
       "      <td>0.0</td>\n",
       "      <td>0.0</td>\n",
       "      <td>16.0</td>\n",
       "    </tr>\n",
       "    <tr>\n",
       "      <th>21</th>\n",
       "      <td>5.0</td>\n",
       "      <td>5.0</td>\n",
       "      <td>0.0</td>\n",
       "      <td>0.0</td>\n",
       "      <td>8.0</td>\n",
       "    </tr>\n",
       "    <tr>\n",
       "      <th>22</th>\n",
       "      <td>1.0</td>\n",
       "      <td>1.0</td>\n",
       "      <td>0.0</td>\n",
       "      <td>0.0</td>\n",
       "      <td>3.0</td>\n",
       "    </tr>\n",
       "    <tr>\n",
       "      <th>23</th>\n",
       "      <td>1.0</td>\n",
       "      <td>1.0</td>\n",
       "      <td>0.0</td>\n",
       "      <td>0.0</td>\n",
       "      <td>2.0</td>\n",
       "    </tr>\n",
       "    <tr>\n",
       "      <th>26</th>\n",
       "      <td>1.0</td>\n",
       "      <td>1.0</td>\n",
       "      <td>0.0</td>\n",
       "      <td>0.0</td>\n",
       "      <td>1.0</td>\n",
       "    </tr>\n",
       "  </tbody>\n",
       "</table>\n",
       "</div>"
      ],
      "text/plain": [
       "          removed  observed  censored  entrance  at_risk\n",
       "event_at                                                \n",
       "0          4597.0    4504.0      93.0   15592.0  15592.0\n",
       "1          1310.0    1076.0     234.0       0.0  10995.0\n",
       "2          1415.0    1176.0     239.0       0.0   9685.0\n",
       "3          1183.0     952.0     231.0       0.0   8270.0\n",
       "4          1126.0     942.0     184.0       0.0   7087.0\n",
       "5           967.0     822.0     145.0       0.0   5961.0\n",
       "6           915.0     782.0     133.0       0.0   4994.0\n",
       "7           823.0     715.0     108.0       0.0   4079.0\n",
       "8           743.0     667.0      76.0       0.0   3256.0\n",
       "9           662.0     609.0      53.0       0.0   2513.0\n",
       "10          580.0     523.0      57.0       0.0   1851.0\n",
       "11          406.0     375.0      31.0       0.0   1271.0\n",
       "12          313.0     291.0      22.0       0.0    865.0\n",
       "13          198.0     184.0      14.0       0.0    552.0\n",
       "14          149.0     146.0       3.0       0.0    354.0\n",
       "15           88.0      85.0       3.0       0.0    205.0\n",
       "16           52.0      49.0       3.0       0.0    117.0\n",
       "17           33.0      33.0       0.0       0.0     65.0\n",
       "18           11.0      11.0       0.0       0.0     32.0\n",
       "19            5.0       5.0       0.0       0.0     21.0\n",
       "20            8.0       8.0       0.0       0.0     16.0\n",
       "21            5.0       5.0       0.0       0.0      8.0\n",
       "22            1.0       1.0       0.0       0.0      3.0\n",
       "23            1.0       1.0       0.0       0.0      2.0\n",
       "26            1.0       1.0       0.0       0.0      1.0"
      ]
     },
     "execution_count": 5,
     "metadata": {},
     "output_type": "execute_result"
    }
   ],
   "source": [
    "kmf.event_table"
   ]
  },
  {
   "cell_type": "markdown",
   "metadata": {},
   "source": [
    "The *removed* column contains the number of observations removed during that time period, whether due to death (the value in the *observed* column) or censorship. So the *removed* column is just the sum of the *observed* and *censorship* columns.  The *entrance* column tells us whether any new subjects entered the population at that time period.  Since all the players we are studying start at $time = 0$ (the moment they were drafted), the *entrance* value is 15,592 at that time and 0 for all other times.\n",
    "\n",
    "The *at_risk* column contains the number of subjects that are still alive during a given time. The value for *at_risk* at $time = 0$, is just equal to the *entrance* value.  For the remaining time periods, the *at_risk* value is equal to the difference between the time previous period's *at_risk* value and *removed* value, plus the current period's *entrance* value. For example for $time = 1$, the number of subject's *at risk*  is 10,995 which is equal to 15,592 (the previous *at_risk* value) - 4,597 (the previous *removed* value) + 0 (the current period's *entrance* value).\n",
    "\n",
    "Since we have access to the survival table we can calculate the survival probability at different times \"by hand.\"\n",
    "\n",
    "Let us take a look at the definition of the Kaplan-Meier Estimate again:\n",
    "\n",
    "$$\\hat{S}(t) = \\prod_{t_i \\lt t} \\frac{n_i - d_i}{n_i}$$\n",
    "\n",
    "where  $d_i$  are the number of death events at time  $t$  and  $n_i$  is the number of subjects at risk of death just prior to time  $t$. \n",
    "\n",
    "What the above essentially tells us is that the value of the survival function for time $t$, is the product of the survival probabilities for all individual time periods leading up to time $t$. \n",
    "\n",
    "We can define the survival probability for an individual time period as follows:\n",
    "\n",
    "$$S_t = \\frac{\\substack{\\text{Number of subjects} \\\\ \\text{at risk at the start}} - \\substack{\\text{Number of subjects} \\\\ \\text{that died}}}{\\substack{\\text{Number of subjects} \\\\ \\text{at risk at the start}}}$$\n",
    "\n",
    "**NOTE** the number of deaths in the above formula does not include the number of censored observations.  \n",
    "\n",
    "Lets walk through a simple example and calculate the the probability that an NFL career lasts longer than 2 years. First we calculate the individual survival probabilities for $t = 0$, $t = 1$, and $t = 2$. \n",
    "\n",
    "Here's the calculation for the survival probability time for $t = 0$:\n",
    "\n",
    "$$S_0 = \\frac{\\substack{\\text{Number of players at risk at the start} \\\\ \\text{(i.e. Number of players drafted)}} - \\substack{\\text{Number of players} \\\\ \\text{that immediately failed}}}{\\substack{\\text{Number of players at risk at the start} \\\\ \\text{(i.e. Number of players drafted)}}} = \\frac{15,592 - 4,504}{15,592} = \\frac{11,088}{15,592} \\approx 0.711$$\n",
    "\n",
    "And the code for the calculation:"
   ]
  },
  {
   "cell_type": "code",
   "execution_count": 6,
   "metadata": {},
   "outputs": [
    {
     "data": {
      "text/plain": [
       "0.71113391482811694"
      ]
     },
     "execution_count": 6,
     "metadata": {},
     "output_type": "execute_result"
    }
   ],
   "source": [
    "# get the values for time = 0 from the survival table\n",
    "event_at_0 = kmf.event_table.iloc[0, :]\n",
    "# now calculate the survival probability for t = 0\n",
    "surv_for_0 =  (event_at_0.at_risk - event_at_0.observed) / event_at_0.at_risk\n",
    "surv_for_0"
   ]
  },
  {
   "cell_type": "markdown",
   "metadata": {},
   "source": [
    "What the above means is that about 71.1% of players drafted make it on to the field. \n",
    "\n",
    "Now the individual survival probability for $t = 1$:\n",
    "\n",
    "$$S_1 = \\frac{\\substack{\\text{Number of players} \\\\ \\text{that survive the draft}} - \\substack{\\text{Number of players} \\\\ \\text{that failed in the 1st year}}}{\\substack{\\text{Number of players} \\\\ \\text{that survive the draft}}} = \\frac{10,995 - 1,076}{10,995} = \\frac{9,919}{10,995} \\approx 0.902$$"
   ]
  },
  {
   "cell_type": "code",
   "execution_count": 7,
   "metadata": {},
   "outputs": [
    {
     "data": {
      "text/plain": [
       "0.90213733515234196"
      ]
     },
     "execution_count": 7,
     "metadata": {},
     "output_type": "execute_result"
    }
   ],
   "source": [
    "# Calculate the survival probability for t = 1\n",
    "event_at_1 = kmf.event_table.iloc[1, :]\n",
    "surv_for_1 =  (event_at_1.at_risk - event_at_1.observed) / event_at_1.at_risk\n",
    "surv_for_1"
   ]
  },
  {
   "cell_type": "markdown",
   "metadata": {},
   "source": [
    "The value for $S_1$ represents the conditional probability that if a player does not immediately fail once drafted, then he has a 90.2% chance of playing 1 year of football. \n",
    "\n",
    "Below is the calculation for $S_2$:\n",
    "\n",
    "$$S_2 = \\frac{\\substack{\\text{Number of players that survive the} \\\\ \\text{1st year and are entering the 2nd year}} - \\substack{\\text{Number of players} \\\\ \\text{that failed in the 2nd year}}}{\\substack{\\text{Number of players that survive the} \\\\ \\text{1st year and are entering the 2nd year}}} = \\frac{9,685 - 1,176}{9,685} = \\frac{8,509}{9,685} \\approx 0.879$$"
   ]
  },
  {
   "cell_type": "code",
   "execution_count": 8,
   "metadata": {},
   "outputs": [
    {
     "data": {
      "text/plain": [
       "0.87857511615900874"
      ]
     },
     "execution_count": 8,
     "metadata": {},
     "output_type": "execute_result"
    }
   ],
   "source": [
    "# Calculate the survival probability for t = 2\n",
    "event_at_2 = kmf.event_table.iloc[2, :]\n",
    "surv_for_2 =  (event_at_2.at_risk - event_at_2.observed) / event_at_2.at_risk\n",
    "surv_for_2"
   ]
  },
  {
   "cell_type": "markdown",
   "metadata": {},
   "source": [
    "$S_2$ also represents a conditional probability.  It is the probability that a player plays in their 2nd year given that he did not retire after his 1st year.  This ends up being about 87.9%.\n",
    "\n",
    "Finally to calculate the probability that an NFL career will last more than 2 years, we just multiply the three individual survival probabilities:\n",
    "\n",
    "$$S(2) = S_0 \\times S_1 \\times S_2 = \\frac{11,088}{15,592} \\times \\frac{9,919}{10,995} \\times \\frac{8,509}{9,685}  \\approx 0.564$$"
   ]
  },
  {
   "cell_type": "code",
   "execution_count": 9,
   "metadata": {},
   "outputs": [
    {
     "data": {
      "text/plain": [
       "0.56364147964887967"
      ]
     },
     "execution_count": 9,
     "metadata": {},
     "output_type": "execute_result"
    }
   ],
   "source": [
    "# The probability that an NFL player has a career longer than 2 years\n",
    "surv_after_2 = surv_for_0 * surv_for_1 * surv_for_2\n",
    "surv_after_2"
   ]
  },
  {
   "cell_type": "markdown",
   "metadata": {},
   "source": [
    "So we see that drafted players have about a 56.4% chance of making it past their 2nd year, or having a career as long as 2 years. Hopefully going through that short example gives you a better idea of how the Kaplan-Meier estimator works.  \n",
    "\n",
    "Our `KaplanMeierFitter` object  has already done all of the above calculations for us. We can get the survival probability after a given time by simply using the `predict` method. So to get the value for $S(2)$ we just pass in 2 into the `predict` method."
   ]
  },
  {
   "cell_type": "code",
   "execution_count": 10,
   "metadata": {},
   "outputs": [
    {
     "data": {
      "text/plain": [
       "0.56364147964887934"
      ]
     },
     "execution_count": 10,
     "metadata": {},
     "output_type": "execute_result"
    }
   ],
   "source": [
    "kmf.predict(2)"
   ]
  },
  {
   "cell_type": "markdown",
   "metadata": {},
   "source": [
    "That's pretty close to the value we calculated by hand.  (I'm not sure why they aren't exactly the same. Possibly a  rounding issue? If you do know why please let me know).\n",
    "\n",
    "The `predict` method can also handle an array of numbers, returning an array of probabilities."
   ]
  },
  {
   "cell_type": "code",
   "execution_count": 11,
   "metadata": {},
   "outputs": [
    {
     "data": {
      "text/plain": [
       "array([ 0.64154045,  0.49875796,  0.37282823,  0.11208943])"
      ]
     },
     "execution_count": 11,
     "metadata": {},
     "output_type": "execute_result"
    }
   ],
   "source": [
    "# The survival probabilities of NFL players after 1, 3, 5, and 10 yrs played\n",
    "kmf.predict([1,3,5,10])"
   ]
  },
  {
   "cell_type": "markdown",
   "metadata": {},
   "source": [
    "To get the full list of estimated probabilities from our `KaplanMeierFitter`, access the `survival_function_` attribute."
   ]
  },
  {
   "cell_type": "code",
   "execution_count": 12,
   "metadata": {
    "scrolled": false
   },
   "outputs": [
    {
     "data": {
      "text/html": [
       "<div>\n",
       "<table border=\"1\" class=\"dataframe\">\n",
       "  <thead>\n",
       "    <tr style=\"text-align: right;\">\n",
       "      <th></th>\n",
       "      <th>KM_estimate</th>\n",
       "    </tr>\n",
       "    <tr>\n",
       "      <th>timeline</th>\n",
       "      <th></th>\n",
       "    </tr>\n",
       "  </thead>\n",
       "  <tbody>\n",
       "    <tr>\n",
       "      <th>0.0</th>\n",
       "      <td>0.711134</td>\n",
       "    </tr>\n",
       "    <tr>\n",
       "      <th>1.0</th>\n",
       "      <td>0.641540</td>\n",
       "    </tr>\n",
       "    <tr>\n",
       "      <th>2.0</th>\n",
       "      <td>0.563641</td>\n",
       "    </tr>\n",
       "    <tr>\n",
       "      <th>3.0</th>\n",
       "      <td>0.498758</td>\n",
       "    </tr>\n",
       "    <tr>\n",
       "      <th>4.0</th>\n",
       "      <td>0.432463</td>\n",
       "    </tr>\n",
       "    <tr>\n",
       "      <th>5.0</th>\n",
       "      <td>0.372828</td>\n",
       "    </tr>\n",
       "    <tr>\n",
       "      <th>6.0</th>\n",
       "      <td>0.314448</td>\n",
       "    </tr>\n",
       "    <tr>\n",
       "      <th>7.0</th>\n",
       "      <td>0.259329</td>\n",
       "    </tr>\n",
       "    <tr>\n",
       "      <th>8.0</th>\n",
       "      <td>0.206205</td>\n",
       "    </tr>\n",
       "    <tr>\n",
       "      <th>9.0</th>\n",
       "      <td>0.156233</td>\n",
       "    </tr>\n",
       "    <tr>\n",
       "      <th>10.0</th>\n",
       "      <td>0.112089</td>\n",
       "    </tr>\n",
       "    <tr>\n",
       "      <th>11.0</th>\n",
       "      <td>0.079018</td>\n",
       "    </tr>\n",
       "    <tr>\n",
       "      <th>12.0</th>\n",
       "      <td>0.052435</td>\n",
       "    </tr>\n",
       "    <tr>\n",
       "      <th>13.0</th>\n",
       "      <td>0.034957</td>\n",
       "    </tr>\n",
       "    <tr>\n",
       "      <th>14.0</th>\n",
       "      <td>0.020540</td>\n",
       "    </tr>\n",
       "    <tr>\n",
       "      <th>15.0</th>\n",
       "      <td>0.012023</td>\n",
       "    </tr>\n",
       "    <tr>\n",
       "      <th>16.0</th>\n",
       "      <td>0.006988</td>\n",
       "    </tr>\n",
       "    <tr>\n",
       "      <th>17.0</th>\n",
       "      <td>0.003440</td>\n",
       "    </tr>\n",
       "    <tr>\n",
       "      <th>18.0</th>\n",
       "      <td>0.002258</td>\n",
       "    </tr>\n",
       "    <tr>\n",
       "      <th>19.0</th>\n",
       "      <td>0.001720</td>\n",
       "    </tr>\n",
       "    <tr>\n",
       "      <th>20.0</th>\n",
       "      <td>0.000860</td>\n",
       "    </tr>\n",
       "    <tr>\n",
       "      <th>21.0</th>\n",
       "      <td>0.000323</td>\n",
       "    </tr>\n",
       "    <tr>\n",
       "      <th>22.0</th>\n",
       "      <td>0.000215</td>\n",
       "    </tr>\n",
       "    <tr>\n",
       "      <th>23.0</th>\n",
       "      <td>0.000108</td>\n",
       "    </tr>\n",
       "    <tr>\n",
       "      <th>26.0</th>\n",
       "      <td>0.000000</td>\n",
       "    </tr>\n",
       "  </tbody>\n",
       "</table>\n",
       "</div>"
      ],
      "text/plain": [
       "          KM_estimate\n",
       "timeline             \n",
       "0.0          0.711134\n",
       "1.0          0.641540\n",
       "2.0          0.563641\n",
       "3.0          0.498758\n",
       "4.0          0.432463\n",
       "5.0          0.372828\n",
       "6.0          0.314448\n",
       "7.0          0.259329\n",
       "8.0          0.206205\n",
       "9.0          0.156233\n",
       "10.0         0.112089\n",
       "11.0         0.079018\n",
       "12.0         0.052435\n",
       "13.0         0.034957\n",
       "14.0         0.020540\n",
       "15.0         0.012023\n",
       "16.0         0.006988\n",
       "17.0         0.003440\n",
       "18.0         0.002258\n",
       "19.0         0.001720\n",
       "20.0         0.000860\n",
       "21.0         0.000323\n",
       "22.0         0.000215\n",
       "23.0         0.000108\n",
       "26.0         0.000000"
      ]
     },
     "execution_count": 12,
     "metadata": {},
     "output_type": "execute_result"
    }
   ],
   "source": [
    "kmf.survival_function_"
   ]
  },
  {
   "cell_type": "markdown",
   "metadata": {},
   "source": [
    "The `median_` attribute also provides us the number of years where on average 50% of players are out of the league."
   ]
  },
  {
   "cell_type": "code",
   "execution_count": 13,
   "metadata": {},
   "outputs": [
    {
     "data": {
      "text/plain": [
       "3.0"
      ]
     },
     "execution_count": 13,
     "metadata": {},
     "output_type": "execute_result"
    }
   ],
   "source": [
    "kmf.median_"
   ]
  },
  {
   "cell_type": "markdown",
   "metadata": {},
   "source": [
    "## Plotting the Kaplan-Meier Estimate"
   ]
  },
  {
   "cell_type": "markdown",
   "metadata": {},
   "source": [
    "Plotting the Kaplan-Meier estimate (along with its confidence intervals) is pretty straightfoward. All we need to do is call the `plot` method."
   ]
  },
  {
   "cell_type": "code",
   "execution_count": 14,
   "metadata": {
    "scrolled": false
   },
   "outputs": [
    {
     "data": {
      "image/png": "[encoded data removed]",
      "text/plain": [
       "<matplotlib.figure.Figure at 0x7fa5a5318ba8>"
      ]
     },
     "metadata": {},
     "output_type": "display_data"
    }
   ],
   "source": [
    "# plot the KM estimate\n",
    "kmf.plot()\n",
    "# Add title and y-axis label\n",
    "plt.title(\"The Kaplan-Meier Estimate for Drafted NFL Players\\n(1967-2015)\")\n",
    "plt.ylabel(\"Probability a Player is Still Active\")\n",
    "\n",
    "plt.show()"
   ]
  },
  {
   "cell_type": "markdown",
   "metadata": {},
   "source": [
    "The first thing thing that you should notice is that the Kaplan-Meier estimate is a step function.  Each horizontal line represents the probability that a player is still active after a given time $t$.  For example, when $t = 0$, the probability that a player is still active after that point is about 71%."
   ]
  },
  {
   "cell_type": "markdown",
   "metadata": {},
   "source": [
    "### Plotting the Kaplan-Meier Estimate by Position\n",
    "\n",
    "Before we plot the career lengths by position, lets clean up some of the data.  We will merge and drop some of the player positions in order to make the plotting a bit more manageable."
   ]
  },
  {
   "cell_type": "code",
   "execution_count": 15,
   "metadata": {},
   "outputs": [
    {
     "data": {
      "text/plain": [
       "array(['DE', 'RB', 'QB', 'LB', 'WR', 'C', 'T', 'DT', 'G', 'HB', 'DB', 'TE',\n",
       "       'K', 'FL', 'E', 'P', 'FB', 'WB', 'NT', 'KR', 'OL', 'DL', 'OLB',\n",
       "       'CB', 'FS', 'ILB', 'SS', 'S', 'LS'], dtype=object)"
      ]
     },
     "execution_count": 15,
     "metadata": {},
     "output_type": "execute_result"
    }
   ],
   "source": [
    "draft_df.Pos.unique() # check out all the different positions"
   ]
  },
  {
   "cell_type": "code",
   "execution_count": 16,
   "metadata": {},
   "outputs": [
    {
     "data": {
      "text/plain": [
       "DB     2668\n",
       "LB     2039\n",
       "RB     1798\n",
       "WR     1793\n",
       "DE     1242\n",
       "T      1174\n",
       "G      1028\n",
       "DT      987\n",
       "TE      873\n",
       "QB      722\n",
       "C       450\n",
       "K       197\n",
       "P       156\n",
       "NT      134\n",
       "FB       91\n",
       "FL       63\n",
       "OL       39\n",
       "CB       29\n",
       "E        29\n",
       "OLB      23\n",
       "HB       23\n",
       "ILB      11\n",
       "SS        7\n",
       "FS        5\n",
       "DL        4\n",
       "KR        3\n",
       "WB        2\n",
       "LS        1\n",
       "S         1\n",
       "Name: Pos, dtype: int64"
      ]
     },
     "execution_count": 16,
     "metadata": {},
     "output_type": "execute_result"
    }
   ],
   "source": [
    "draft_df.Pos.value_counts() # get a count for each position"
   ]
  },
  {
   "cell_type": "code",
   "execution_count": 17,
   "metadata": {
    "collapsed": true
   },
   "outputs": [],
   "source": [
    "# Relabel/Merge some of the positions\n",
    "# Set all HBs to RB\n",
    "draft_df.loc[draft_df.Pos == \"HB\", \"Pos\"] = \"RB\"\n",
    "\n",
    "# Set all Safeties and Cornernbacks to DBs\n",
    "draft_df.loc[draft_df.Pos.isin([\"SS\", \"FS\", \"S\", \"CB\"]), \"Pos\"] = \"DB\"\n",
    "\n",
    "# Set all types of Linebackers to LB\n",
    "draft_df.loc[draft_df.Pos.isin([\"OLB\", \"ILB\"]), \"Pos\"] = \"LB\""
   ]
  },
  {
   "cell_type": "code",
   "execution_count": 18,
   "metadata": {},
   "outputs": [],
   "source": [
    "# drop players from the following positions [FL, E, WB, KR, LS, OL]\n",
    "# get the row indices for players with undesired postions\n",
    "idx = draft_df.Pos.isin([\"FL\", \"E\", \"WB\", \"KR\", \"LS\", \"DL\", \"OL\"])\n",
    "# keep the players that don't have the above positions\n",
    "draft_df_2 = draft_df.loc[~idx, :]"
   ]
  },
  {
   "cell_type": "code",
   "execution_count": 19,
   "metadata": {},
   "outputs": [
    {
     "data": {
      "text/plain": [
       "15"
      ]
     },
     "execution_count": 19,
     "metadata": {},
     "output_type": "execute_result"
    }
   ],
   "source": [
    "# check the number of positions in order to decide\n",
    "# on the plotting grid dimiensions\n",
    "len(draft_df_2.Pos.unique())"
   ]
  },
  {
   "cell_type": "markdown",
   "metadata": {},
   "source": [
    "Now that we have the data organized, lets plot the Kaplan-Meier estimate for each position.  I've commented the code below to walk you through the process of plotting each position in a 5x3 plotting grid."
   ]
  },
  {
   "cell_type": "code",
   "execution_count": 20,
   "metadata": {},
   "outputs": [
    {
     "data": {
      "image/png": "[encoded data removed]",
      "text/plain": [
       "<matplotlib.figure.Figure at 0x7fa5a4e1b048>"
      ]
     },
     "metadata": {},
     "output_type": "display_data"
    }
   ],
   "source": [
    "# create a new KMF object\n",
    "kmf_by_pos = KaplanMeierFitter()\n",
    "\n",
    "duration = draft_df_2.Duration\n",
    "observed = draft_df_2.Retired\n",
    "\n",
    "# Set the order that the positions will be plotted\n",
    "positions = [\"QB\", \"RB\", \"WR\",\n",
    "             \"TE\", \"T\", \"G\", \n",
    "             \"C\", \"DE\", \"DT\", \n",
    "             \"NT\", \"LB\", \"DB\",\n",
    "             \"FB\", \"K\", \"P\"]\n",
    "\n",
    "# Set up the the 5x3 plotting grid by creating figure and axes objects\n",
    "# Set sharey to True so that each row of plots share the left most y-axis labels\n",
    "fig, axes = plt.subplots(nrows = 5, ncols = 3, sharey = True,\n",
    "                         figsize=(12,15))\n",
    "\n",
    "# flatten() creates a 1-D array of the individual axes (or subplots)\n",
    "# that we will plot on in our grid\n",
    "# We zip together the two 1-D arrays containing the positions and axes\n",
    "# so we can iterate over each postion and plot its KM estimate onto \n",
    "# its respective axes\n",
    "for pos, ax in zip(positions, axes.flatten()):\n",
    "    # get indices for players with the matching position label\n",
    "    idx = draft_df_2.Pos == pos\n",
    "    # fit the kmf for the those players\n",
    "    kmf_by_pos.fit(duration[idx], observed[idx])\n",
    "    # plot the KM estimate for that position on its respective axes\n",
    "    kmf_by_pos.plot(ax=ax, legend=False)\n",
    "    # place text indicating the median for the position\n",
    "    # the xy-coord passed in represents the fractional value for each axis\n",
    "    # for example (.5, .5) places text at the center of the plot\n",
    "    ax.annotate(\"Median = {:.0f} yrs\".format(kmf_by_pos.median_), xy = (.47, .85), \n",
    "                xycoords = \"axes fraction\")\n",
    "    # get rid the default \"timeline\" x-axis label set by kmf.plot() \n",
    "    ax.set_xlabel(\"\")\n",
    "    # label each plot by its position\n",
    "    ax.set_title(pos)\n",
    "    # set a common x and y axis across all plots\n",
    "    ax.set_xlim(0,25)\n",
    "    ax.set_ylim(0,1)\n",
    "\n",
    "# tighten up the padding for the subplots\n",
    "fig.tight_layout()\n",
    "\n",
    "# https://stackoverflow.com/questions/16150819/common-xlabel-ylabel-for-matplotlib-subplots\n",
    "# set a common x-axis label\n",
    "fig.text(0.5, -0.01, \"Timeline (Years)\", ha=\"center\")\n",
    "# set a common y-axis label\n",
    "fig.text(-0.01, 0.5, \"Probability That a Player is Still Active\", \n",
    "         va=\"center\", rotation=\"vertical\")\n",
    "# add the title for the whole plot\n",
    "fig.suptitle(\"Survival Curve for each NFL Position\\n(Players Drafted from 1967-2015)\",\n",
    "             fontsize=20)\n",
    "# add some padding between the title and the rest of the plot to avoid overlap\n",
    "fig.subplots_adjust(top=0.92)\n",
    "\n",
    "plt.show()"
   ]
  },
  {
   "cell_type": "markdown",
   "metadata": {},
   "source": [
    "## Checking the Conditional Survival Time\n",
    "\n",
    "Another interesitng attribute in our `KaplanMeierFitter` is the `conditional_time_to_event_`.  It is a `DataFrame` that contains the estimated median remaining lifetime, conditioned on surviving up to time $t$.  So from the table below we see that if a player is in the league for 1 year, their expected remaining career length is 5 years.  Please note that some of the conditional survival times for later time values are a bit funky due to the smaller sample sizes of those time periods."
   ]
  },
  {
   "cell_type": "code",
   "execution_count": 21,
   "metadata": {},
   "outputs": [
    {
     "data": {
      "text/html": [
       "<div>\n",
       "<table border=\"1\" class=\"dataframe\">\n",
       "  <thead>\n",
       "    <tr style=\"text-align: right;\">\n",
       "      <th></th>\n",
       "      <th>KM_estimate - Conditional time remaining to event</th>\n",
       "    </tr>\n",
       "    <tr>\n",
       "      <th>timeline</th>\n",
       "      <th></th>\n",
       "    </tr>\n",
       "  </thead>\n",
       "  <tbody>\n",
       "    <tr>\n",
       "      <th>0.0</th>\n",
       "      <td>6.0</td>\n",
       "    </tr>\n",
       "    <tr>\n",
       "      <th>1.0</th>\n",
       "      <td>5.0</td>\n",
       "    </tr>\n",
       "    <tr>\n",
       "      <th>2.0</th>\n",
       "      <td>5.0</td>\n",
       "    </tr>\n",
       "    <tr>\n",
       "      <th>3.0</th>\n",
       "      <td>5.0</td>\n",
       "    </tr>\n",
       "    <tr>\n",
       "      <th>4.0</th>\n",
       "      <td>4.0</td>\n",
       "    </tr>\n",
       "    <tr>\n",
       "      <th>5.0</th>\n",
       "      <td>4.0</td>\n",
       "    </tr>\n",
       "    <tr>\n",
       "      <th>6.0</th>\n",
       "      <td>3.0</td>\n",
       "    </tr>\n",
       "    <tr>\n",
       "      <th>7.0</th>\n",
       "      <td>3.0</td>\n",
       "    </tr>\n",
       "    <tr>\n",
       "      <th>8.0</th>\n",
       "      <td>3.0</td>\n",
       "    </tr>\n",
       "    <tr>\n",
       "      <th>9.0</th>\n",
       "      <td>3.0</td>\n",
       "    </tr>\n",
       "    <tr>\n",
       "      <th>10.0</th>\n",
       "      <td>2.0</td>\n",
       "    </tr>\n",
       "    <tr>\n",
       "      <th>11.0</th>\n",
       "      <td>2.0</td>\n",
       "    </tr>\n",
       "    <tr>\n",
       "      <th>12.0</th>\n",
       "      <td>2.0</td>\n",
       "    </tr>\n",
       "    <tr>\n",
       "      <th>13.0</th>\n",
       "      <td>2.0</td>\n",
       "    </tr>\n",
       "    <tr>\n",
       "      <th>14.0</th>\n",
       "      <td>2.0</td>\n",
       "    </tr>\n",
       "    <tr>\n",
       "      <th>15.0</th>\n",
       "      <td>2.0</td>\n",
       "    </tr>\n",
       "    <tr>\n",
       "      <th>16.0</th>\n",
       "      <td>1.0</td>\n",
       "    </tr>\n",
       "    <tr>\n",
       "      <th>17.0</th>\n",
       "      <td>2.0</td>\n",
       "    </tr>\n",
       "    <tr>\n",
       "      <th>18.0</th>\n",
       "      <td>2.0</td>\n",
       "    </tr>\n",
       "    <tr>\n",
       "      <th>19.0</th>\n",
       "      <td>1.0</td>\n",
       "    </tr>\n",
       "    <tr>\n",
       "      <th>20.0</th>\n",
       "      <td>1.0</td>\n",
       "    </tr>\n",
       "    <tr>\n",
       "      <th>21.0</th>\n",
       "      <td>2.0</td>\n",
       "    </tr>\n",
       "    <tr>\n",
       "      <th>22.0</th>\n",
       "      <td>1.0</td>\n",
       "    </tr>\n",
       "    <tr>\n",
       "      <th>23.0</th>\n",
       "      <td>3.0</td>\n",
       "    </tr>\n",
       "    <tr>\n",
       "      <th>26.0</th>\n",
       "      <td>0.0</td>\n",
       "    </tr>\n",
       "  </tbody>\n",
       "</table>\n",
       "</div>"
      ],
      "text/plain": [
       "          KM_estimate - Conditional time remaining to event\n",
       "timeline                                                   \n",
       "0.0                                                     6.0\n",
       "1.0                                                     5.0\n",
       "2.0                                                     5.0\n",
       "3.0                                                     5.0\n",
       "4.0                                                     4.0\n",
       "5.0                                                     4.0\n",
       "6.0                                                     3.0\n",
       "7.0                                                     3.0\n",
       "8.0                                                     3.0\n",
       "9.0                                                     3.0\n",
       "10.0                                                    2.0\n",
       "11.0                                                    2.0\n",
       "12.0                                                    2.0\n",
       "13.0                                                    2.0\n",
       "14.0                                                    2.0\n",
       "15.0                                                    2.0\n",
       "16.0                                                    1.0\n",
       "17.0                                                    2.0\n",
       "18.0                                                    2.0\n",
       "19.0                                                    1.0\n",
       "20.0                                                    1.0\n",
       "21.0                                                    2.0\n",
       "22.0                                                    1.0\n",
       "23.0                                                    3.0\n",
       "26.0                                                    0.0"
      ]
     },
     "execution_count": 21,
     "metadata": {},
     "output_type": "execute_result"
    }
   ],
   "source": [
    "kmf._conditional_time_to_event_()"
   ]
  },
  {
   "cell_type": "markdown",
   "metadata": {},
   "source": [
    "# Resources\n",
    "\n",
    "Here are the resources I used to help write up this post and learn about survival analysis:\n",
    "\n",
    "## Papers, Articles, and Documentation\n",
    "- [The `lifelines` documentation](https://lifelines.readthedocs.io/en/latest/index.html)\n",
    "- [The PDF to the original paper by Kapalan and Meier](http://www.csee.wvu.edu/~xinl/library/papers/math/statistics/kaplan.pdf)\n",
    "- [Survival Analysis: A Self Learning Text](https://www.amazon.com/Survival-Analysis-Self-Learning-Statistics-Biology/dp/1441966455)\n",
    "- [A Practical Guide to Understanding Kaplan-Meier Curves](https://www.ncbi.nlm.nih.gov/pmc/articles/PMC3932959/)\n",
    "- [Understanding survival analysis: Kaplan-Meier estimate](https://www.ncbi.nlm.nih.gov/pmc/articles/PMC3059453/)\n",
    "- [What is Survival Analysis (PDF)](https://www.cscu.cornell.edu/news/statnews/stnews78.pdf)\n",
    "- [A short article by Kaplan](http://www.garfield.library.upenn.edu/classics1983/A1983QS51100001.pdf)\n",
    "\n",
    "## Videos\n",
    "- [Lifelines: Survival Analysis in Python](https://www.youtube.com/watch?v=XQfxndJH4UA), by Cameron Davidson-Pilon (the creator of the `lifelines` library)\n",
    "- [Survival Analysis in Python and R](https://www.youtube.com/watch?v=fli-yE5grtY), by Linda Uruchurtu\n",
    "\n",
    "As always you can find my code and data on [github](https://github.com/savvastj/nfl_survival_analysis).  Please let me know if you see any mistakes/issues or have any suggestions on improving this post."
   ]
  }
 ],
 "metadata": {
  "kernelspec": {
   "display_name": "Python 3",
   "language": "python",
   "name": "python3"
  },
  "language_info": {
   "codemirror_mode": {
    "name": "ipython",
    "version": 3
   },
   "file_extension": ".py",
   "mimetype": "text/x-python",
   "name": "python",
   "nbconvert_exporter": "python",
   "pygments_lexer": "ipython3",
   "version": "3.6.8"
  },
  "nav_menu": {},
  "toc": {
   "navigate_menu": true,
   "number_sections": false,
   "sideBar": false,
   "threshold": 6,
   "toc_cell": false,
   "toc_section_display": "block",
   "toc_window_display": false
  }
 },
 "nbformat": 4,
 "nbformat_minor": 1
}
