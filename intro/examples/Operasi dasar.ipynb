{
 "cells": [
  {
   "cell_type": "markdown",
   "metadata": {
    "toc": true
   },
   "source": [
    "<h1>Table of Contents<span class=\"tocSkip\"></span></h1>\n",
    "<div class=\"toc\"><ul class=\"toc-item\"><li><span><a href=\"#Python-Dasar\" data-toc-modified-id=\"Python-Dasar-1\"><span class=\"toc-item-num\">1&nbsp;&nbsp;</span>Python Dasar</a></span></li><li><span><a href=\"#Operasi-List\" data-toc-modified-id=\"Operasi-List-2\"><span class=\"toc-item-num\">2&nbsp;&nbsp;</span>Operasi List</a></span></li></ul></div>"
   ]
  },
  {
   "cell_type": "markdown",
   "metadata": {},
   "source": [
    "# Python Dasar"
   ]
  },
  {
   "cell_type": "code",
   "execution_count": 1,
   "metadata": {
    "ExecuteTime": {
     "end_time": "2019-09-28T23:29:35.784687Z",
     "start_time": "2019-09-28T23:29:35.781193Z"
    }
   },
   "outputs": [
    {
     "name": "stdout",
     "output_type": "stream",
     "text": [
      "hai Harits!\n"
     ]
    }
   ],
   "source": [
    "print('hai Harits!')"
   ]
  },
  {
   "cell_type": "code",
   "execution_count": 2,
   "metadata": {
    "ExecuteTime": {
     "end_time": "2019-09-28T23:30:26.109557Z",
     "start_time": "2019-09-28T23:30:26.101097Z"
    }
   },
   "outputs": [],
   "source": [
    "a = 10\n",
    "b = 20\n"
   ]
  },
  {
   "cell_type": "code",
   "execution_count": 3,
   "metadata": {
    "ExecuteTime": {
     "end_time": "2019-09-28T23:30:31.375641Z",
     "start_time": "2019-09-28T23:30:31.370616Z"
    }
   },
   "outputs": [
    {
     "name": "stdout",
     "output_type": "stream",
     "text": [
      "nilai a: 10 type: <class 'int'>\n",
      "nilai b: 20 type: <class 'int'>\n"
     ]
    }
   ],
   "source": [
    "print(f'nilai a: {a} type: {type(a)}')\n",
    "print(f'nilai b: {b} type: {type(b)}')\n"
   ]
  },
  {
   "cell_type": "code",
   "execution_count": 4,
   "metadata": {
    "ExecuteTime": {
     "end_time": "2019-09-28T23:30:35.706778Z",
     "start_time": "2019-09-28T23:30:35.692316Z"
    }
   },
   "outputs": [
    {
     "name": "stdout",
     "output_type": "stream",
     "text": [
      "setelah ditukar\n",
      "nilai a: 20 type: <class 'int'>\n",
      "nilai b: 10 type: <class 'int'>\n"
     ]
    }
   ],
   "source": [
    "# Menukar nilai\n",
    "a, b = b, a\n",
    "print('setelah ditukar')\n",
    "print(f'nilai a: {a} type: {type(a)}')\n",
    "print(f'nilai b: {b} type: {type(b)}')\n"
   ]
  },
  {
   "cell_type": "code",
   "execution_count": 5,
   "metadata": {
    "ExecuteTime": {
     "end_time": "2019-09-28T23:30:38.326219Z",
     "start_time": "2019-09-28T23:30:38.313994Z"
    }
   },
   "outputs": [
    {
     "name": "stdout",
     "output_type": "stream",
     "text": [
      "setelah diparsing\n",
      "nilai a: 20 type: <class 'str'>\n",
      "nilai b: [10] type: <class 'list'>\n"
     ]
    }
   ],
   "source": [
    "# Ganti tipe data\n",
    "a = str(a)\n",
    "b = list([b])\n",
    "print('setelah diparsing')\n",
    "print(f'nilai a: {a} type: {type(a)}')\n",
    "print(f'nilai b: {b} type: {type(b)}')"
   ]
  },
  {
   "cell_type": "code",
   "execution_count": 6,
   "metadata": {
    "ExecuteTime": {
     "end_time": "2019-09-28T23:30:57.024777Z",
     "start_time": "2019-09-28T23:30:57.011057Z"
    }
   },
   "outputs": [
    {
     "name": "stdout",
     "output_type": "stream",
     "text": [
      "Operasi aritmatika\n",
      "30\n",
      "-10\n",
      "200\n",
      "0.5\n",
      "10\n",
      "0\n",
      "100000000000000000000\n"
     ]
    }
   ],
   "source": [
    "a = 10\n",
    "b = 20\n",
    "print('Operasi aritmatika')\n",
    "print(a+b)\n",
    "print(a-b)\n",
    "print(a*b)\n",
    "print(a/b)\n",
    "print(a%b)\n",
    "print(a//b)\n",
    "print(a**b)\n"
   ]
  },
  {
   "cell_type": "code",
   "execution_count": 7,
   "metadata": {
    "ExecuteTime": {
     "end_time": "2019-09-28T23:31:01.766906Z",
     "start_time": "2019-09-28T23:31:01.753672Z"
    }
   },
   "outputs": [
    {
     "name": "stdout",
     "output_type": "stream",
     "text": [
      "Operasi pembanding\n",
      "False\n",
      "True\n",
      "True\n",
      "True\n",
      "False\n",
      "False\n"
     ]
    }
   ],
   "source": [
    "print('Operasi pembanding')\n",
    "print(a==b)\n",
    "print(a!=b)\n",
    "print(a<b)\n",
    "print(a<=b)\n",
    "print(a>b)\n",
    "print(a>=b)\n"
   ]
  },
  {
   "cell_type": "code",
   "execution_count": 8,
   "metadata": {
    "ExecuteTime": {
     "end_time": "2019-09-28T23:31:08.769348Z",
     "start_time": "2019-09-28T23:31:08.760826Z"
    }
   },
   "outputs": [
    {
     "name": "stdout",
     "output_type": "stream",
     "text": [
      "Operasi chained comparisons\n",
      "False\n",
      "True\n"
     ]
    }
   ],
   "source": [
    "print('Operasi chained comparisons')\n",
    "print(a==b and a!=b)\n",
    "print(a==b or a!=b)\n"
   ]
  },
  {
   "cell_type": "code",
   "execution_count": 9,
   "metadata": {
    "ExecuteTime": {
     "end_time": "2019-09-28T23:31:11.989342Z",
     "start_time": "2019-09-28T23:31:11.980276Z"
    }
   },
   "outputs": [
    {
     "name": "stdout",
     "output_type": "stream",
     "text": [
      "Operasi augmented assignment\n",
      "10\n",
      "30\n"
     ]
    }
   ],
   "source": [
    "print('Operasi augmented assignment')\n",
    "print(a)\n",
    "a +=b\n",
    "print(a)"
   ]
  },
  {
   "cell_type": "markdown",
   "metadata": {
    "ExecuteTime": {
     "end_time": "2019-09-28T23:32:01.194695Z",
     "start_time": "2019-09-28T23:32:01.190928Z"
    }
   },
   "source": [
    "# Operasi List"
   ]
  },
  {
   "cell_type": "code",
   "execution_count": 11,
   "metadata": {
    "ExecuteTime": {
     "end_time": "2019-09-28T23:32:16.514178Z",
     "start_time": "2019-09-28T23:32:16.495052Z"
    }
   },
   "outputs": [
    {
     "name": "stdout",
     "output_type": "stream",
     "text": [
      "- L.append(object) -> None -- append object to end\n",
      "- L.clear() -> None -- remove all items from L\n",
      "- L.copy() -> list -- a shallow copy of L\n",
      "- L.count(value) -> integer -- return number of occurrences of value\n",
      "- L.extend(iterable) -> None -- extend list by appending elements from the iterable\n",
      "- L.index(value, [start, [stop]]) -> integer -- return first index of value.\n",
      "Raises ValueError if the value is not present.\n",
      "- L.insert(index, object) -- insert object before index\n",
      "- L.pop([index]) -> item -- remove and return item at index (default last).\n",
      "Raises IndexError if list is empty or index is out of range.\n",
      "- L.remove(value) -> None -- remove first occurrence of value.\n",
      "Raises ValueError if the value is not present.\n",
      "- L.reverse() -- reverse *IN PLACE*\n",
      "- L.sort(key=None, reverse=False) -> None -- stable sort *IN PLACE*\n"
     ]
    },
    {
     "data": {
      "text/plain": [
       "[None, None, None, None, None, None, None, None, None, None, None]"
      ]
     },
     "execution_count": 11,
     "metadata": {},
     "output_type": "execute_result"
    }
   ],
   "source": [
    "[print(f'- {getattr(list,r).__doc__}') for r in dir(list) if not r.__contains__('_')]\n"
   ]
  },
  {
   "cell_type": "code",
   "execution_count": 12,
   "metadata": {
    "ExecuteTime": {
     "end_time": "2019-09-28T23:32:29.386021Z",
     "start_time": "2019-09-28T23:32:29.373410Z"
    }
   },
   "outputs": [
    {
     "name": "stdout",
     "output_type": "stream",
     "text": [
      "==============================\n",
      " Append\n",
      "[1, 'dua', 3.0, (4+1j)]\n"
     ]
    }
   ],
   "source": [
    "print(f'''{'='*30}\\n Append''')\n",
    "list_a = []\n",
    "list_a.append(1)\n",
    "list_a.append('dua')\n",
    "list_a.append(3.0)\n",
    "list_a.append(4+1j)\n",
    "print(f'{list_a}')\n",
    "# Bisa juga langsung dengan +"
   ]
  },
  {
   "cell_type": "code",
   "execution_count": 13,
   "metadata": {
    "ExecuteTime": {
     "end_time": "2019-09-28T23:32:38.949252Z",
     "start_time": "2019-09-28T23:32:38.937735Z"
    }
   },
   "outputs": [
    {
     "name": "stdout",
     "output_type": "stream",
     "text": [
      "==============================\n",
      "clear\n",
      "[]\n",
      "[1, 'dua', 3.0, (4+1j)]\n"
     ]
    }
   ],
   "source": [
    "print(f'''{'='*30}\\nclear''')\n",
    "list_a.clear()\n",
    "print(f'{list_a}')\n",
    "list_a = [1, 'dua', 3.0, 4+1j]\n",
    "print(f'{list_a}')\n"
   ]
  },
  {
   "cell_type": "code",
   "execution_count": 14,
   "metadata": {
    "ExecuteTime": {
     "end_time": "2019-09-28T23:32:45.879502Z",
     "start_time": "2019-09-28T23:32:45.868522Z"
    }
   },
   "outputs": [
    {
     "name": "stdout",
     "output_type": "stream",
     "text": [
      "==============================\n",
      "copy\n",
      "[1, 'dua', 3.0, (4+1j)]\n"
     ]
    }
   ],
   "source": [
    "print(f'''{'='*30}\\ncopy''')\n",
    "list_a_copy = list_a.copy()\n",
    "print(f'{list_a_copy}')\n"
   ]
  },
  {
   "cell_type": "code",
   "execution_count": 15,
   "metadata": {
    "ExecuteTime": {
     "end_time": "2019-09-28T23:32:58.420967Z",
     "start_time": "2019-09-28T23:32:58.413375Z"
    }
   },
   "outputs": [
    {
     "name": "stdout",
     "output_type": "stream",
     "text": [
      "==============================\n",
      "count\n",
      "5\n"
     ]
    }
   ],
   "source": [
    "print(f'''{'='*30}\\ncount''')\n",
    "list_a.append(1)\n",
    "list_a.append(1)\n",
    "list_a.append(1)\n",
    "list_a.append(1)\n",
    "print(f'{list_a.count(1)}')\n"
   ]
  },
  {
   "cell_type": "code",
   "execution_count": 16,
   "metadata": {
    "ExecuteTime": {
     "end_time": "2019-09-28T23:33:07.742402Z",
     "start_time": "2019-09-28T23:33:07.732437Z"
    }
   },
   "outputs": [
    {
     "name": "stdout",
     "output_type": "stream",
     "text": [
      "==============================\n",
      "extend\n",
      "[1, 'dua', 3.0, (4+1j), 1, 1, 1, 1, 'satu', 2, (3+0j), 4.0]\n"
     ]
    }
   ],
   "source": [
    "print(f'''{'='*30}\\nextend''')\n",
    "list_b = ['satu', 2, 3+0.j, 4.0]\n",
    "list_a.extend(list_b)\n",
    "print(f'{list_a}')\n"
   ]
  },
  {
   "cell_type": "code",
   "execution_count": 17,
   "metadata": {
    "ExecuteTime": {
     "end_time": "2019-09-28T23:33:15.175610Z",
     "start_time": "2019-09-28T23:33:15.170256Z"
    }
   },
   "outputs": [
    {
     "name": "stdout",
     "output_type": "stream",
     "text": [
      "==============================\n",
      "index\n",
      "8\n"
     ]
    }
   ],
   "source": [
    "print(f'''{'='*30}\\nindex''')\n",
    "print(f'''{list_a.index('satu')}''')\n"
   ]
  },
  {
   "cell_type": "code",
   "execution_count": 18,
   "metadata": {
    "ExecuteTime": {
     "end_time": "2019-09-28T23:33:22.241904Z",
     "start_time": "2019-09-28T23:33:22.231677Z"
    }
   },
   "outputs": [
    {
     "name": "stdout",
     "output_type": "stream",
     "text": [
      "==============================\n",
      "insert\n",
      "['Ini nilai pertama', 1, 'dua', 3.0, (4+1j), 1, 1, 1, 1, 'satu', 2, (3+0j), 'ditaruh diakhir sebelum terakhir', 4.0]\n"
     ]
    }
   ],
   "source": [
    "print(f'''{'='*30}\\ninsert''')\n",
    "list_a.insert(0, 'Ini nilai pertama')\n",
    "list_a.insert(-1, 'ditaruh diakhir sebelum terakhir')\n",
    "print(f'{list_a}')\n"
   ]
  },
  {
   "cell_type": "code",
   "execution_count": 19,
   "metadata": {
    "ExecuteTime": {
     "end_time": "2019-09-28T23:33:30.651237Z",
     "start_time": "2019-09-28T23:33:30.640090Z"
    }
   },
   "outputs": [
    {
     "name": "stdout",
     "output_type": "stream",
     "text": [
      "==============================\n",
      "pop\n",
      "Ini nilai pertama\n",
      "[1, 'dua', 3.0, (4+1j), 1, 1, 1, 1, 'satu', 2, (3+0j), 'ditaruh diakhir sebelum terakhir', 4.0]\n"
     ]
    }
   ],
   "source": [
    "print(f'''{'='*30}\\npop''')\n",
    "print(list_a.pop(0))\n",
    "print(f'{list_a}')\n"
   ]
  },
  {
   "cell_type": "code",
   "execution_count": 20,
   "metadata": {
    "ExecuteTime": {
     "end_time": "2019-09-28T23:33:34.629587Z",
     "start_time": "2019-09-28T23:33:34.623330Z"
    }
   },
   "outputs": [
    {
     "name": "stdout",
     "output_type": "stream",
     "text": [
      "==============================\n",
      "remove\n",
      "[1, 'dua', (4+1j), 1, 1, 1, 1, 'satu', 2, (3+0j), 'ditaruh diakhir sebelum terakhir', 4.0]\n"
     ]
    }
   ],
   "source": [
    "print(f'''{'='*30}\\nremove''')\n",
    "list_a.remove(3.0)\n",
    "print(f'{list_a}')\n"
   ]
  },
  {
   "cell_type": "code",
   "execution_count": 21,
   "metadata": {
    "ExecuteTime": {
     "end_time": "2019-09-28T23:33:38.464939Z",
     "start_time": "2019-09-28T23:33:38.456742Z"
    }
   },
   "outputs": [
    {
     "name": "stdout",
     "output_type": "stream",
     "text": [
      "==============================\n",
      "reverse\n",
      "[4.0, 'ditaruh diakhir sebelum terakhir', (3+0j), 2, 'satu', 1, 1, 1, 1, (4+1j), 'dua', 1]\n"
     ]
    }
   ],
   "source": [
    "print(f'''{'='*30}\\nreverse''')\n",
    "list_a.reverse()\n",
    "print(f'{list_a}')\n"
   ]
  },
  {
   "cell_type": "code",
   "execution_count": 22,
   "metadata": {
    "ExecuteTime": {
     "end_time": "2019-09-28T23:33:40.094584Z",
     "start_time": "2019-09-28T23:33:40.079647Z"
    }
   },
   "outputs": [
    {
     "name": "stdout",
     "output_type": "stream",
     "text": [
      "==============================\n",
      "reverse\n",
      "[1, 1, 1, 2, 2, 3, 5, 6, 6, 7, 8, 8, 8]\n"
     ]
    }
   ],
   "source": [
    "print(f'''{'='*30}\\nreverse''')\n",
    "list_c = [1,8,2,6,2,6,8,3,1,5,7,1,8]\n",
    "list_c.sort()\n",
    "print(f'{list_c}')"
   ]
  },
  {
   "cell_type": "code",
   "execution_count": 23,
   "metadata": {
    "ExecuteTime": {
     "end_time": "2019-09-28T23:34:34.284341Z",
     "start_time": "2019-09-28T23:34:34.273317Z"
    }
   },
   "outputs": [
    {
     "data": {
      "text/plain": [
       "['ditaruh diakhir sebelum terakhir', (3+0j), 2]"
      ]
     },
     "execution_count": 23,
     "metadata": {},
     "output_type": "execute_result"
    }
   ],
   "source": [
    "# slicing list\n",
    "list_a[1:4]"
   ]
  },
  {
   "cell_type": "code",
   "execution_count": 24,
   "metadata": {
    "ExecuteTime": {
     "end_time": "2019-09-28T23:34:46.770122Z",
     "start_time": "2019-09-28T23:34:46.762739Z"
    }
   },
   "outputs": [
    {
     "data": {
      "text/plain": [
       "[2]"
      ]
     },
     "execution_count": 24,
     "metadata": {},
     "output_type": "execute_result"
    }
   ],
   "source": [
    "list_a[3:4]"
   ]
  },
  {
   "cell_type": "code",
   "execution_count": 25,
   "metadata": {
    "ExecuteTime": {
     "end_time": "2019-09-28T23:35:35.997417Z",
     "start_time": "2019-09-28T23:35:35.985840Z"
    }
   },
   "outputs": [],
   "source": [
    "# sharing value\n",
    "x = [\"a\", \"b\", \"c\"]\n",
    "y = x"
   ]
  },
  {
   "cell_type": "code",
   "execution_count": 26,
   "metadata": {
    "ExecuteTime": {
     "end_time": "2019-09-28T23:35:41.916281Z",
     "start_time": "2019-09-28T23:35:41.911168Z"
    }
   },
   "outputs": [
    {
     "data": {
      "text/plain": [
       "['a', 'b', 'c']"
      ]
     },
     "execution_count": 26,
     "metadata": {},
     "output_type": "execute_result"
    }
   ],
   "source": [
    "x"
   ]
  },
  {
   "cell_type": "code",
   "execution_count": 27,
   "metadata": {
    "ExecuteTime": {
     "end_time": "2019-09-28T23:35:45.650157Z",
     "start_time": "2019-09-28T23:35:45.643081Z"
    }
   },
   "outputs": [
    {
     "data": {
      "text/plain": [
       "['a', 'b', 'c']"
      ]
     },
     "execution_count": 27,
     "metadata": {},
     "output_type": "execute_result"
    }
   ],
   "source": [
    "y"
   ]
  },
  {
   "cell_type": "code",
   "execution_count": 28,
   "metadata": {
    "ExecuteTime": {
     "end_time": "2019-09-28T23:35:49.328185Z",
     "start_time": "2019-09-28T23:35:49.324088Z"
    }
   },
   "outputs": [],
   "source": [
    "y[1] = \"z\""
   ]
  },
  {
   "cell_type": "code",
   "execution_count": 29,
   "metadata": {
    "ExecuteTime": {
     "end_time": "2019-09-28T23:35:52.601944Z",
     "start_time": "2019-09-28T23:35:52.587992Z"
    }
   },
   "outputs": [
    {
     "data": {
      "text/plain": [
       "['a', 'z', 'c']"
      ]
     },
     "execution_count": 29,
     "metadata": {},
     "output_type": "execute_result"
    }
   ],
   "source": [
    "x"
   ]
  },
  {
   "cell_type": "code",
   "execution_count": 30,
   "metadata": {
    "ExecuteTime": {
     "end_time": "2019-09-28T23:35:59.418895Z",
     "start_time": "2019-09-28T23:35:59.411381Z"
    }
   },
   "outputs": [
    {
     "data": {
      "text/plain": [
       "['a', 'z', 'c']"
      ]
     },
     "execution_count": 30,
     "metadata": {},
     "output_type": "execute_result"
    }
   ],
   "source": [
    "y"
   ]
  },
  {
   "cell_type": "code",
   "execution_count": 33,
   "metadata": {
    "ExecuteTime": {
     "end_time": "2019-09-28T23:36:18.111931Z",
     "start_time": "2019-09-28T23:36:18.105978Z"
    }
   },
   "outputs": [],
   "source": [
    "# Avoiding sharing value\n",
    "x = [\"a\", \"b\", \"c\"]\n",
    "y = list(x)\n",
    "z = x[:]"
   ]
  },
  {
   "cell_type": "code",
   "execution_count": 34,
   "metadata": {
    "ExecuteTime": {
     "end_time": "2019-09-28T23:36:21.895951Z",
     "start_time": "2019-09-28T23:36:21.891763Z"
    }
   },
   "outputs": [],
   "source": [
    "x[1] = 'haha'"
   ]
  },
  {
   "cell_type": "code",
   "execution_count": 35,
   "metadata": {
    "ExecuteTime": {
     "end_time": "2019-09-28T23:36:24.016867Z",
     "start_time": "2019-09-28T23:36:24.005462Z"
    }
   },
   "outputs": [
    {
     "data": {
      "text/plain": [
       "['a', 'haha', 'c']"
      ]
     },
     "execution_count": 35,
     "metadata": {},
     "output_type": "execute_result"
    }
   ],
   "source": [
    "x"
   ]
  },
  {
   "cell_type": "code",
   "execution_count": 36,
   "metadata": {
    "ExecuteTime": {
     "end_time": "2019-09-28T23:36:27.168110Z",
     "start_time": "2019-09-28T23:36:27.158621Z"
    }
   },
   "outputs": [
    {
     "data": {
      "text/plain": [
       "['a', 'b', 'c']"
      ]
     },
     "execution_count": 36,
     "metadata": {},
     "output_type": "execute_result"
    }
   ],
   "source": [
    "y"
   ]
  },
  {
   "cell_type": "code",
   "execution_count": 37,
   "metadata": {
    "ExecuteTime": {
     "end_time": "2019-09-28T23:36:28.157907Z",
     "start_time": "2019-09-28T23:36:28.152810Z"
    }
   },
   "outputs": [
    {
     "data": {
      "text/plain": [
       "['a', 'b', 'c']"
      ]
     },
     "execution_count": 37,
     "metadata": {},
     "output_type": "execute_result"
    }
   ],
   "source": [
    "z"
   ]
  },
  {
   "cell_type": "code",
   "execution_count": null,
   "metadata": {},
   "outputs": [],
   "source": []
  }
 ],
 "metadata": {
  "kernelspec": {
   "display_name": "Python 3",
   "language": "python",
   "name": "python3"
  },
  "language_info": {
   "codemirror_mode": {
    "name": "ipython",
    "version": 3
   },
   "file_extension": ".py",
   "mimetype": "text/x-python",
   "name": "python",
   "nbconvert_exporter": "python",
   "pygments_lexer": "ipython3",
   "version": "3.6.8"
  },
  "toc": {
   "base_numbering": 1,
   "nav_menu": {},
   "number_sections": true,
   "sideBar": true,
   "skip_h1_title": false,
   "title_cell": "Table of Contents",
   "title_sidebar": "Contents",
   "toc_cell": true,
   "toc_position": {},
   "toc_section_display": true,
   "toc_window_display": false
  },
  "varInspector": {
   "cols": {
    "lenName": 16,
    "lenType": 16,
    "lenVar": 40
   },
   "kernels_config": {
    "python": {
     "delete_cmd_postfix": "",
     "delete_cmd_prefix": "del ",
     "library": "var_list.py",
     "varRefreshCmd": "print(var_dic_list())"
    },
    "r": {
     "delete_cmd_postfix": ") ",
     "delete_cmd_prefix": "rm(",
     "library": "var_list.r",
     "varRefreshCmd": "cat(var_dic_list()) "
    }
   },
   "types_to_exclude": [
    "module",
    "function",
    "builtin_function_or_method",
    "instance",
    "_Feature"
   ],
   "window_display": false
  }
 },
 "nbformat": 4,
 "nbformat_minor": 2
}
